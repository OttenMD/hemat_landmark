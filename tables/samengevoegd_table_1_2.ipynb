{
 "cells": [
  {
   "cell_type": "markdown",
   "metadata": {},
   "source": [
    "### Create a table 1"
   ]
  },
  {
   "cell_type": "code",
   "execution_count": null,
   "metadata": {},
   "outputs": [],
   "source": [
    "import pandas as pd\n",
    "import numpy as np\n",
    "import joblib\n",
    "import glob\n",
    "import duckdb\n",
    "import os\n",
    "import seaborn as sns\n",
    "import matplotlib.pyplot as plt\n",
    "from tableone import TableOne\n",
    "\n",
    "\n",
    "from hemat.config import Config\n",
    "\n",
    "config = Config(root=\"C:\\\\motten\\\\projects\\\\hemat\", experiment_name=\"survival\")"
   ]
  },
  {
   "cell_type": "markdown",
   "metadata": {},
   "source": [
    "### Load data"
   ]
  },
  {
   "cell_type": "code",
   "execution_count": null,
   "metadata": {},
   "outputs": [],
   "source": [
    "AUMC_table_1_df=pd.read_csv(os.path.join(config.directory(\"processed\"), \"AUMC_table_1_df.csv\"))\n",
    "UMCU_table_1_df=pd.read_csv(os.path.join(config.directory(\"processed\"), \"UMCU_table_1_df.csv\"))"
   ]
  },
  {
   "cell_type": "markdown",
   "metadata": {},
   "source": [
    "### Concat dataframes"
   ]
  },
  {
   "cell_type": "code",
   "execution_count": null,
   "metadata": {},
   "outputs": [],
   "source": [
    "AUMC_table_1_df = AUMC_table_1_df[['malignant_hemat','Geslacht','neutrophiles_smaller_than_0.5','autoloog','allogeen','chr_renal_insuf','chron_dialysis','resp_insuf','cardio_vasc_insuf',\n",
    "                    'cirrhosis','neoplasm','hem_malign','aids','imm_insuf',\n",
    "                    'DiagnoseCode_last','age_at_admission', 'neutrophiles_count', 'nice_ap4_score','Hoofdgroep','Survival_in_days', 'day_of_admission_max_count', 'mech_vent_max_count', 'rrt_max_count',\n",
    "       'vasopr_inotr_max_count', 'transfusion_max_count', 'mort_90d', 'mort_1y']]"
   ]
  },
  {
   "cell_type": "code",
   "execution_count": null,
   "metadata": {},
   "outputs": [],
   "source": [
    "AUMC_table_1_df.rename(columns={'Hoofdgroep': 'APACHE_IV_adm_diag_extracted'}, inplace=True)"
   ]
  },
  {
   "cell_type": "code",
   "execution_count": null,
   "metadata": {},
   "outputs": [],
   "source": [
    "UMCU_table_1_df = UMCU_table_1_df[['malignant_hemat','Geslacht','neutrophiles_smaller_than_0.5','autoloog','allogeen','chr_renal_insuf','chron_dialysis','resp_insuf','cardio_vasc_insuf',\n",
    "                    'cirrhosis','neoplasm','hem_malign','aids','imm_insuf',\n",
    "                    'DiagnoseCode_last','age_at_admission', 'neutrophiles_count', 'nice_ap4_score','APACHE_IV_adm_diag_extracted','Survival_in_days', 'day_of_admission_max_count', 'mech_vent_max_count', 'rrt_max_count',\n",
    "       'vasopr_inotr_max_count', 'transfusion_max_count', 'mort_90d', 'mort_1y']]"
   ]
  },
  {
   "cell_type": "code",
   "execution_count": null,
   "metadata": {},
   "outputs": [],
   "source": [
    "# Concatenate the two DataFrames\n",
    "samengevoegd_table_1_df = pd.concat([UMCU_table_1_df, AUMC_table_1_df], ignore_index=True)"
   ]
  },
  {
   "cell_type": "code",
   "execution_count": null,
   "metadata": {},
   "outputs": [],
   "source": [
    "# Rename values in the 'Geslacht' column\n",
    "samengevoegd_table_1_df['Geslacht'] = samengevoegd_table_1_df['Geslacht'].replace({\n",
    "    'male': 'Male',\n",
    "    'female': 'Female'\n",
    "})"
   ]
  },
  {
   "cell_type": "code",
   "execution_count": null,
   "metadata": {},
   "outputs": [],
   "source": [
    "# Define the list of values to rename\n",
    "values_to_rename = [\n",
    "    'Other specified and unspecified types of non-Hodgkin lymphoma',\n",
    "    'Other specified types of T/NK-cell lymphoma',\n",
    "    'Follicular lymphoma',\n",
    "    'Hodgkin lymphoma',\n",
    "    'Mature T/NK-cell lymphomas',\n",
    "    'Malignant immunoproliferative diseases and certain other B-cell lymphomas',\n",
    "    'Other and unspecified malignant neoplasms of lymphoid, hematopoietic and related tissue',\n",
    "    'Other leukemias of specified cell type'\n",
    "]\n",
    "\n",
    "# Rename these values to 'Other' in the column 'DiagnoseCode_last'\n",
    "samengevoegd_table_1_df['DiagnoseCode_last'] = samengevoegd_table_1_df['DiagnoseCode_last'].replace(values_to_rename, 'Other')\n"
   ]
  },
  {
   "cell_type": "markdown",
   "metadata": {},
   "source": [
    "#### Make table 1"
   ]
  },
  {
   "cell_type": "code",
   "execution_count": null,
   "metadata": {},
   "outputs": [],
   "source": [
    "# Define categorical and continuous variables\n",
    "categorical_vars_1 = ['Geslacht','neutrophiles_smaller_than_0.5','autoloog','imm_insuf','allogeen','chr_renal_insuf','resp_insuf','cardio_vasc_insuf',\n",
    "                    'cirrhosis',\n",
    "                    'DiagnoseCode_last','APACHE_IV_adm_diag_extracted'\n",
    "                    ]\n",
    "continuous_vars_1 = ['age_at_admission', 'nice_ap4_score']\n",
    "nonnormal_1=['neutrophiles_count', 'nice_ap4_score']\n"
   ]
  },
  {
   "cell_type": "code",
   "execution_count": null,
   "metadata": {},
   "outputs": [],
   "source": [
    "rename_dict_1 = {'Geslacht':'Sex', \n",
    "               'neutrophiles_smaller_than_0.5':'Neutropenia',\n",
    "               'autoloog':'Autologous SCT',\n",
    "               'allogeen':'Allogenic SCT',\n",
    "               'chr_renal_insuf':'Chronic renal insufficiency',\n",
    "               'chron_dialysis':'Chronic dialysis',\n",
    "               'resp_insuf':'Chronic respiratory insufficiency',\n",
    "               'cardio_vasc_insuf':'Chronic cardiovascular insufficiency',\n",
    "               'cirrhosis':'Cirrhosis',\n",
    "               'neoplasm':'Metastatic neoplasm',\n",
    "               'hem_malign':'Heamatological malignancy',\n",
    "               'aids':'Aids',\n",
    "               'imm_insuf':'Immunodeficiency',\n",
    "               'APACHE_IV_adm_diag_extracted':'Admission diagnosis',\n",
    "               'DiagnoseCode_last':'Heamatological malignancy',\n",
    "               'age_at_admission':'Age',\n",
    "               'neutrophiles_count':'Neutrophiles count',\n",
    "               'nice_ap4_score':'APACHE IV score',\n",
    "               'day_of_admission_max_count':'Length of stay',\n",
    "               'mech_vent_max_count':'Length of IMV',\n",
    "               'rrt_max_count':'Length of RRT',\n",
    "               'vasopr_inotr_max_count':'Length of vasopression or inotropy',\n",
    "               'transfusion_max_count':'Number of days with transfusion',\n",
    "}"
   ]
  },
  {
   "cell_type": "code",
   "execution_count": null,
   "metadata": {},
   "outputs": [],
   "source": [
    "limit_dict_1 = {'Geslacht':1,\n",
    "              }"
   ]
  },
  {
   "cell_type": "code",
   "execution_count": null,
   "metadata": {},
   "outputs": [],
   "source": [
    "samengevoegd_table_1_df['DiagnoseCode_last'].unique()"
   ]
  },
  {
   "cell_type": "code",
   "execution_count": null,
   "metadata": {},
   "outputs": [],
   "source": [
    "order_dict_1={'DiagnoseCode_last':['Myeloid leukemia',\n",
    "                                 'Non-follicular lymphoma',\n",
    "                                 'Multiple myeloma and malignant plasma cell neoplasms',\n",
    "                                 'Lymphoid leukemia',\n",
    "                                 'Monocytic leukemia',\n",
    "                                 'Leukemia of unspecified cell type',\n",
    "                                 'Other',\n",
    "]}"
   ]
  },
  {
   "cell_type": "code",
   "execution_count": null,
   "metadata": {},
   "outputs": [],
   "source": [
    "groupby = ['malignant_hemat']  # Optional: Group by this variable\n",
    "\n",
    "table_1_by_hemat = TableOne(samengevoegd_table_1_df, columns=['age_at_admission',\n",
    "                                                              'Geslacht',\n",
    "                                                              'cardio_vasc_insuf',\n",
    "                                                              'resp_insuf',\n",
    "                                                              'chr_renal_insuf',\n",
    "                                                              'cirrhosis',\n",
    "                                                              'imm_insuf',\n",
    "                                                              'autoloog',\n",
    "                                                              'allogeen',\n",
    "                                                              'APACHE_IV_adm_diag_extracted',\n",
    "                                                              'DiagnoseCode_last',\n",
    "                                                              'neutrophiles_smaller_than_0.5',\n",
    "                                                              'nice_ap4_score',], nonnormal=nonnormal_1, categorical=categorical_vars_1, \n",
    "                            groupby=groupby, pval=True, overall=False, missing=False, rename= rename_dict_1, limit=limit_dict_1, order= order_dict_1, htest_name=False)\n",
    "# Print Table 1\n",
    "print(table_1_by_hemat.tabulate(tablefmt = \"fancy_grid\"))\n",
    "\n",
    "file_path = os.path.join(config.directory(\"tables\"), \"samengevoegd_table_1_by_hemat.xlsx\")\n",
    "table_1_by_hemat.to_excel(file_path)"
   ]
  },
  {
   "cell_type": "markdown",
   "metadata": {},
   "source": [
    "# Make table 2"
   ]
  },
  {
   "cell_type": "markdown",
   "metadata": {},
   "source": [
    "##### Make variables for organs support at any moment"
   ]
  },
  {
   "cell_type": "code",
   "execution_count": null,
   "metadata": {},
   "outputs": [],
   "source": [
    "samengevoegd_table_1_df['mech_vent_at_any_point'] = (samengevoegd_table_1_df['mech_vent_max_count'] != 0).astype(int)\n",
    "samengevoegd_table_1_df['rrt_at_any_point'] = (samengevoegd_table_1_df['rrt_max_count'] != 0).astype(int)\n",
    "samengevoegd_table_1_df['vasopr_inotr_at_any_point'] = (samengevoegd_table_1_df['vasopr_inotr_max_count'] != 0).astype(int)\n",
    "samengevoegd_table_1_df['transfusion_at_any_point'] = (samengevoegd_table_1_df['transfusion_max_count'] != 0).astype(int)\n"
   ]
  },
  {
   "cell_type": "markdown",
   "metadata": {},
   "source": [
    "##### Make max_count variables with a Nan for the patients that have 0 days of that organ support"
   ]
  },
  {
   "cell_type": "code",
   "execution_count": null,
   "metadata": {},
   "outputs": [],
   "source": [
    "samengevoegd_table_1_df['mech_vent_max_count_only_non_0'] = samengevoegd_table_1_df['mech_vent_max_count'].replace(0, np.nan)\n",
    "samengevoegd_table_1_df['rrt_count_only_non_0'] = samengevoegd_table_1_df['rrt_max_count'].replace(0, np.nan)\n",
    "samengevoegd_table_1_df['vasopr_inotr_max_count_only_non_0'] = samengevoegd_table_1_df['vasopr_inotr_max_count'].replace(0, np.nan)\n",
    "samengevoegd_table_1_df['transfusion_max_count_only_non_0'] = samengevoegd_table_1_df['transfusion_max_count'].replace(0, np.nan)"
   ]
  },
  {
   "cell_type": "code",
   "execution_count": null,
   "metadata": {},
   "outputs": [],
   "source": [
    "# Define categorical and continuous variables\n",
    "categorical_vars_2 = ['mort_90d', 'mort_1y', 'mech_vent_at_any_point','rrt_at_any_point','vasopr_inotr_at_any_point','transfusion_at_any_point'\n",
    "                    ]\n",
    "continuous_vars_2 = ['day_of_admission_max_count', 'mech_vent_max_count_only_non_0', 'rrt_count_only_non_0',\n",
    "       'vasopr_inotr_max_count_only_non_0', 'transfusion_max_count_only_non_0']\n",
    "nonnormal_2=['day_of_admission_max_count', 'mech_vent_max_count_only_non_0', 'rrt_count_only_non_0',\n",
    "       'vasopr_inotr_max_count_only_non_0', 'transfusion_max_count_only_non_0']"
   ]
  },
  {
   "cell_type": "code",
   "execution_count": null,
   "metadata": {},
   "outputs": [],
   "source": [
    "rename_dict_2 = {'mort_90d':'90-day mortality', \n",
    "               'mort_1y':'1-year mortality',\n",
    "               'mech_vent_at_any_point':'Mechanical ventilation at any moment',\n",
    "               'rrt_at_any_point':'Renal replacement therapy at any moment',\n",
    "               'vasopr_inotr_at_any_point':'Vasopressors or inotropes at any moment',\n",
    "               'transfusion_at_any_point':'Transfusion of erythrocytes or platelets at any moment',\n",
    "               'day_of_admission_max_count':'Length of ICU stay',\n",
    "               'mech_vent_max_count_only_non_0':'Duration of mechanical ventilation',\n",
    "               'rrt_count_only_non_0':'Duration of renal replacement therapy',\n",
    "               'vasopr_inotr_max_count_only_non_0':'Duration of vasopressors or inotropes',\n",
    "               'transfusion_max_count_only_non_0':'Duration of transfusion of erythrocytes or platelets'\n",
    "}"
   ]
  },
  {
   "cell_type": "code",
   "execution_count": null,
   "metadata": {},
   "outputs": [],
   "source": [
    "groupby = ['malignant_hemat']  # Optional: Group by this variable\n",
    "\n",
    "table_2_by_hemat = TableOne(samengevoegd_table_1_df, columns=['day_of_admission_max_count',\n",
    "                                                              'mech_vent_at_any_point',\n",
    "                                                              'mech_vent_max_count_only_non_0',\n",
    "                                                              'vasopr_inotr_at_any_point',\n",
    "                                                              'vasopr_inotr_max_count_only_non_0',\n",
    "                                                              'rrt_at_any_point',\n",
    "                                                              'rrt_count_only_non_0',\n",
    "                                                              'transfusion_at_any_point',\n",
    "                                                              'transfusion_max_count_only_non_0',\n",
    "                                                              'mort_90d',\n",
    "                                                              'mort_1y',\n",
    "                                                              ], nonnormal=nonnormal_2, categorical=categorical_vars_2, \n",
    "                            groupby=groupby, pval=True, overall=False, missing=False, rename= rename_dict_2, htest_name=False)\n",
    "# Print Table 1\n",
    "print(table_2_by_hemat.tabulate(tablefmt = \"fancy_grid\"))\n",
    "\n",
    "file_path = os.path.join(config.directory(\"tables\"), \"samengevoegd_table_2_by_hemat.xlsx\")\n",
    "table_2_by_hemat.to_excel(file_path)"
   ]
  },
  {
   "cell_type": "code",
   "execution_count": null,
   "metadata": {},
   "outputs": [],
   "source": []
  }
 ],
 "metadata": {
  "kernelspec": {
   "display_name": "hemat-ydeKdXU4-py3.12",
   "language": "python",
   "name": "python3"
  },
  "language_info": {
   "codemirror_mode": {
    "name": "ipython",
    "version": 3
   },
   "file_extension": ".py",
   "mimetype": "text/x-python",
   "name": "python",
   "nbconvert_exporter": "python",
   "pygments_lexer": "ipython3",
   "version": "3.12.2"
  }
 },
 "nbformat": 4,
 "nbformat_minor": 2
}
